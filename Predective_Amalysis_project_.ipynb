{
  "cells": [
    {
      "cell_type": "code",
      "execution_count": null,
      "id": "c563c477",
      "metadata": {
        "id": "c563c477"
      },
      "outputs": [],
      "source": [
        "from lazypredict.Supervised import LazyClassifier\n",
        "from sklearn.model_selection import train_test_split\n",
        "import pandas as pd\n",
        "from sklearn.preprocessing import MinMaxScaler\n",
        "from xgboost import XGBClassifier\n",
        "from sklearn.metrics import accuracy_score, confusion_matrix\n",
        "from sklearn.ensemble import RandomForestClassifier\n",
        "from sklearn.tree import DecisionTreeClassifier\n",
        "from sklearn.metrics import classification_report\n",
        "from sklearn.ensemble import AdaBoostClassifier\n",
        "from sklearn.neighbors import KNeighborsClassifier\n",
        "from sklearn.metrics import roc_curve, auc\n",
        "from sklearn.preprocessing import StandardScaler\n",
        "from imblearn.over_sampling import SMOTE\n",
        "from sklearn.decomposition import PCA\n",
        "import numpy as np\n",
        "import matplotlib.pyplot as plt\n",
        "from imblearn.over_sampling import SMOTE\n",
        "from imblearn.under_sampling import RandomUnderSampler"
      ]
    },
    {
      "cell_type": "code",
      "execution_count": null,
      "id": "e683d4ba",
      "metadata": {
        "id": "e683d4ba",
        "outputId": "6eff4c1f-5d1a-4eac-8c42-c2f0e2bfe659"
      },
      "outputs": [
        {
          "data": {
            "text/html": [
              "<div>\n",
              "<style scoped>\n",
              "    .dataframe tbody tr th:only-of-type {\n",
              "        vertical-align: middle;\n",
              "    }\n",
              "\n",
              "    .dataframe tbody tr th {\n",
              "        vertical-align: top;\n",
              "    }\n",
              "\n",
              "    .dataframe thead th {\n",
              "        text-align: right;\n",
              "    }\n",
              "</style>\n",
              "<table border=\"1\" class=\"dataframe\">\n",
              "  <thead>\n",
              "    <tr style=\"text-align: right;\">\n",
              "      <th></th>\n",
              "      <th>UDI</th>\n",
              "      <th>Product ID</th>\n",
              "      <th>Type</th>\n",
              "      <th>Air temperature [K]</th>\n",
              "      <th>Process temperature [K]</th>\n",
              "      <th>Rotational speed [rpm]</th>\n",
              "      <th>Torque [Nm]</th>\n",
              "      <th>Tool wear [min]</th>\n",
              "      <th>Machine failure</th>\n",
              "      <th>TWF</th>\n",
              "      <th>HDF</th>\n",
              "      <th>PWF</th>\n",
              "      <th>OSF</th>\n",
              "      <th>RNF</th>\n",
              "    </tr>\n",
              "  </thead>\n",
              "  <tbody>\n",
              "    <tr>\n",
              "      <th>0</th>\n",
              "      <td>1</td>\n",
              "      <td>M14860</td>\n",
              "      <td>M</td>\n",
              "      <td>298.10</td>\n",
              "      <td>308.60</td>\n",
              "      <td>1551</td>\n",
              "      <td>42.80</td>\n",
              "      <td>0</td>\n",
              "      <td>0</td>\n",
              "      <td>0</td>\n",
              "      <td>0</td>\n",
              "      <td>0</td>\n",
              "      <td>0</td>\n",
              "      <td>0</td>\n",
              "    </tr>\n",
              "    <tr>\n",
              "      <th>1</th>\n",
              "      <td>2</td>\n",
              "      <td>L47181</td>\n",
              "      <td>L</td>\n",
              "      <td>298.20</td>\n",
              "      <td>308.70</td>\n",
              "      <td>1408</td>\n",
              "      <td>46.30</td>\n",
              "      <td>3</td>\n",
              "      <td>0</td>\n",
              "      <td>0</td>\n",
              "      <td>0</td>\n",
              "      <td>0</td>\n",
              "      <td>0</td>\n",
              "      <td>0</td>\n",
              "    </tr>\n",
              "    <tr>\n",
              "      <th>2</th>\n",
              "      <td>3</td>\n",
              "      <td>L47182</td>\n",
              "      <td>L</td>\n",
              "      <td>298.10</td>\n",
              "      <td>308.50</td>\n",
              "      <td>1498</td>\n",
              "      <td>49.40</td>\n",
              "      <td>5</td>\n",
              "      <td>0</td>\n",
              "      <td>0</td>\n",
              "      <td>0</td>\n",
              "      <td>0</td>\n",
              "      <td>0</td>\n",
              "      <td>0</td>\n",
              "    </tr>\n",
              "    <tr>\n",
              "      <th>3</th>\n",
              "      <td>4</td>\n",
              "      <td>L47183</td>\n",
              "      <td>L</td>\n",
              "      <td>298.20</td>\n",
              "      <td>308.60</td>\n",
              "      <td>1433</td>\n",
              "      <td>39.50</td>\n",
              "      <td>7</td>\n",
              "      <td>0</td>\n",
              "      <td>0</td>\n",
              "      <td>0</td>\n",
              "      <td>0</td>\n",
              "      <td>0</td>\n",
              "      <td>0</td>\n",
              "    </tr>\n",
              "    <tr>\n",
              "      <th>4</th>\n",
              "      <td>5</td>\n",
              "      <td>L47184</td>\n",
              "      <td>L</td>\n",
              "      <td>298.20</td>\n",
              "      <td>308.70</td>\n",
              "      <td>1408</td>\n",
              "      <td>40.00</td>\n",
              "      <td>9</td>\n",
              "      <td>0</td>\n",
              "      <td>0</td>\n",
              "      <td>0</td>\n",
              "      <td>0</td>\n",
              "      <td>0</td>\n",
              "      <td>0</td>\n",
              "    </tr>\n",
              "    <tr>\n",
              "      <th>...</th>\n",
              "      <td>...</td>\n",
              "      <td>...</td>\n",
              "      <td>...</td>\n",
              "      <td>...</td>\n",
              "      <td>...</td>\n",
              "      <td>...</td>\n",
              "      <td>...</td>\n",
              "      <td>...</td>\n",
              "      <td>...</td>\n",
              "      <td>...</td>\n",
              "      <td>...</td>\n",
              "      <td>...</td>\n",
              "      <td>...</td>\n",
              "      <td>...</td>\n",
              "    </tr>\n",
              "    <tr>\n",
              "      <th>9995</th>\n",
              "      <td>9996</td>\n",
              "      <td>M24855</td>\n",
              "      <td>M</td>\n",
              "      <td>298.80</td>\n",
              "      <td>308.40</td>\n",
              "      <td>1604</td>\n",
              "      <td>29.50</td>\n",
              "      <td>14</td>\n",
              "      <td>0</td>\n",
              "      <td>0</td>\n",
              "      <td>0</td>\n",
              "      <td>0</td>\n",
              "      <td>0</td>\n",
              "      <td>0</td>\n",
              "    </tr>\n",
              "    <tr>\n",
              "      <th>9996</th>\n",
              "      <td>9997</td>\n",
              "      <td>H39410</td>\n",
              "      <td>H</td>\n",
              "      <td>298.90</td>\n",
              "      <td>308.40</td>\n",
              "      <td>1632</td>\n",
              "      <td>31.80</td>\n",
              "      <td>17</td>\n",
              "      <td>0</td>\n",
              "      <td>0</td>\n",
              "      <td>0</td>\n",
              "      <td>0</td>\n",
              "      <td>0</td>\n",
              "      <td>0</td>\n",
              "    </tr>\n",
              "    <tr>\n",
              "      <th>9997</th>\n",
              "      <td>9998</td>\n",
              "      <td>M24857</td>\n",
              "      <td>M</td>\n",
              "      <td>299.00</td>\n",
              "      <td>308.60</td>\n",
              "      <td>1645</td>\n",
              "      <td>33.40</td>\n",
              "      <td>22</td>\n",
              "      <td>0</td>\n",
              "      <td>0</td>\n",
              "      <td>0</td>\n",
              "      <td>0</td>\n",
              "      <td>0</td>\n",
              "      <td>0</td>\n",
              "    </tr>\n",
              "    <tr>\n",
              "      <th>9998</th>\n",
              "      <td>9999</td>\n",
              "      <td>H39412</td>\n",
              "      <td>H</td>\n",
              "      <td>299.00</td>\n",
              "      <td>308.70</td>\n",
              "      <td>1408</td>\n",
              "      <td>48.50</td>\n",
              "      <td>25</td>\n",
              "      <td>0</td>\n",
              "      <td>0</td>\n",
              "      <td>0</td>\n",
              "      <td>0</td>\n",
              "      <td>0</td>\n",
              "      <td>0</td>\n",
              "    </tr>\n",
              "    <tr>\n",
              "      <th>9999</th>\n",
              "      <td>10000</td>\n",
              "      <td>M24859</td>\n",
              "      <td>M</td>\n",
              "      <td>299.00</td>\n",
              "      <td>308.70</td>\n",
              "      <td>1500</td>\n",
              "      <td>40.20</td>\n",
              "      <td>30</td>\n",
              "      <td>0</td>\n",
              "      <td>0</td>\n",
              "      <td>0</td>\n",
              "      <td>0</td>\n",
              "      <td>0</td>\n",
              "      <td>0</td>\n",
              "    </tr>\n",
              "  </tbody>\n",
              "</table>\n",
              "<p>10000 rows × 14 columns</p>\n",
              "</div>"
            ],
            "text/plain": [
              "        UDI Product ID Type  Air temperature [K]  Process temperature [K]  \\\n",
              "0         1     M14860    M               298.10                   308.60   \n",
              "1         2     L47181    L               298.20                   308.70   \n",
              "2         3     L47182    L               298.10                   308.50   \n",
              "3         4     L47183    L               298.20                   308.60   \n",
              "4         5     L47184    L               298.20                   308.70   \n",
              "...     ...        ...  ...                  ...                      ...   \n",
              "9995   9996     M24855    M               298.80                   308.40   \n",
              "9996   9997     H39410    H               298.90                   308.40   \n",
              "9997   9998     M24857    M               299.00                   308.60   \n",
              "9998   9999     H39412    H               299.00                   308.70   \n",
              "9999  10000     M24859    M               299.00                   308.70   \n",
              "\n",
              "      Rotational speed [rpm]  Torque [Nm]  Tool wear [min]  Machine failure  \\\n",
              "0                       1551        42.80                0                0   \n",
              "1                       1408        46.30                3                0   \n",
              "2                       1498        49.40                5                0   \n",
              "3                       1433        39.50                7                0   \n",
              "4                       1408        40.00                9                0   \n",
              "...                      ...          ...              ...              ...   \n",
              "9995                    1604        29.50               14                0   \n",
              "9996                    1632        31.80               17                0   \n",
              "9997                    1645        33.40               22                0   \n",
              "9998                    1408        48.50               25                0   \n",
              "9999                    1500        40.20               30                0   \n",
              "\n",
              "      TWF  HDF  PWF  OSF  RNF  \n",
              "0       0    0    0    0    0  \n",
              "1       0    0    0    0    0  \n",
              "2       0    0    0    0    0  \n",
              "3       0    0    0    0    0  \n",
              "4       0    0    0    0    0  \n",
              "...   ...  ...  ...  ...  ...  \n",
              "9995    0    0    0    0    0  \n",
              "9996    0    0    0    0    0  \n",
              "9997    0    0    0    0    0  \n",
              "9998    0    0    0    0    0  \n",
              "9999    0    0    0    0    0  \n",
              "\n",
              "[10000 rows x 14 columns]"
            ]
          },
          "execution_count": 314,
          "metadata": {},
          "output_type": "execute_result"
        }
      ],
      "source": [
        "df = pd.read_csv(r'C:\\Users\\Tejashwini Vemavarapu\\Downloads\\ai4i2020.csv')\n",
        "df"
      ]
    },
    {
      "cell_type": "code",
      "execution_count": null,
      "id": "310118d7",
      "metadata": {
        "id": "310118d7",
        "outputId": "a466cadb-f452-47d1-b3d6-908996d0cbe1"
      },
      "outputs": [
        {
          "data": {
            "text/plain": [
              "<bound method NDFrame.describe of         UDI Product ID Type  Air temperature [K]  Process temperature [K]  \\\n",
              "0         1     M14860    M               298.10                   308.60   \n",
              "1         2     L47181    L               298.20                   308.70   \n",
              "2         3     L47182    L               298.10                   308.50   \n",
              "3         4     L47183    L               298.20                   308.60   \n",
              "4         5     L47184    L               298.20                   308.70   \n",
              "...     ...        ...  ...                  ...                      ...   \n",
              "9995   9996     M24855    M               298.80                   308.40   \n",
              "9996   9997     H39410    H               298.90                   308.40   \n",
              "9997   9998     M24857    M               299.00                   308.60   \n",
              "9998   9999     H39412    H               299.00                   308.70   \n",
              "9999  10000     M24859    M               299.00                   308.70   \n",
              "\n",
              "      Rotational speed [rpm]  Torque [Nm]  Tool wear [min]  Machine failure  \\\n",
              "0                       1551        42.80                0                0   \n",
              "1                       1408        46.30                3                0   \n",
              "2                       1498        49.40                5                0   \n",
              "3                       1433        39.50                7                0   \n",
              "4                       1408        40.00                9                0   \n",
              "...                      ...          ...              ...              ...   \n",
              "9995                    1604        29.50               14                0   \n",
              "9996                    1632        31.80               17                0   \n",
              "9997                    1645        33.40               22                0   \n",
              "9998                    1408        48.50               25                0   \n",
              "9999                    1500        40.20               30                0   \n",
              "\n",
              "      TWF  HDF  PWF  OSF  RNF  \n",
              "0       0    0    0    0    0  \n",
              "1       0    0    0    0    0  \n",
              "2       0    0    0    0    0  \n",
              "3       0    0    0    0    0  \n",
              "4       0    0    0    0    0  \n",
              "...   ...  ...  ...  ...  ...  \n",
              "9995    0    0    0    0    0  \n",
              "9996    0    0    0    0    0  \n",
              "9997    0    0    0    0    0  \n",
              "9998    0    0    0    0    0  \n",
              "9999    0    0    0    0    0  \n",
              "\n",
              "[10000 rows x 14 columns]>"
            ]
          },
          "execution_count": 315,
          "metadata": {},
          "output_type": "execute_result"
        }
      ],
      "source": [
        "df.describe"
      ]
    },
    {
      "cell_type": "code",
      "execution_count": null,
      "id": "b8b58bab",
      "metadata": {
        "id": "b8b58bab"
      },
      "outputs": [],
      "source": [
        "# Selecting only the relevant columns\n",
        "t_df = df.loc[:, ~df.columns.isin(['UDI','Product ID','TWF','HDF','PWF','OSF','RNF'])]"
      ]
    },
    {
      "cell_type": "code",
      "execution_count": null,
      "id": "1df1dbc0",
      "metadata": {
        "id": "1df1dbc0",
        "outputId": "d00bb432-1c64-4581-ca60-e4682919726a"
      },
      "outputs": [
        {
          "data": {
            "text/html": [
              "<div>\n",
              "<style scoped>\n",
              "    .dataframe tbody tr th:only-of-type {\n",
              "        vertical-align: middle;\n",
              "    }\n",
              "\n",
              "    .dataframe tbody tr th {\n",
              "        vertical-align: top;\n",
              "    }\n",
              "\n",
              "    .dataframe thead th {\n",
              "        text-align: right;\n",
              "    }\n",
              "</style>\n",
              "<table border=\"1\" class=\"dataframe\">\n",
              "  <thead>\n",
              "    <tr style=\"text-align: right;\">\n",
              "      <th></th>\n",
              "      <th>Type</th>\n",
              "      <th>Air temperature [K]</th>\n",
              "      <th>Process temperature [K]</th>\n",
              "      <th>Rotational speed [rpm]</th>\n",
              "      <th>Torque [Nm]</th>\n",
              "      <th>Tool wear [min]</th>\n",
              "      <th>Machine failure</th>\n",
              "    </tr>\n",
              "  </thead>\n",
              "  <tbody>\n",
              "    <tr>\n",
              "      <th>0</th>\n",
              "      <td>M</td>\n",
              "      <td>298.10</td>\n",
              "      <td>308.60</td>\n",
              "      <td>1551</td>\n",
              "      <td>42.80</td>\n",
              "      <td>0</td>\n",
              "      <td>0</td>\n",
              "    </tr>\n",
              "    <tr>\n",
              "      <th>1</th>\n",
              "      <td>L</td>\n",
              "      <td>298.20</td>\n",
              "      <td>308.70</td>\n",
              "      <td>1408</td>\n",
              "      <td>46.30</td>\n",
              "      <td>3</td>\n",
              "      <td>0</td>\n",
              "    </tr>\n",
              "    <tr>\n",
              "      <th>2</th>\n",
              "      <td>L</td>\n",
              "      <td>298.10</td>\n",
              "      <td>308.50</td>\n",
              "      <td>1498</td>\n",
              "      <td>49.40</td>\n",
              "      <td>5</td>\n",
              "      <td>0</td>\n",
              "    </tr>\n",
              "    <tr>\n",
              "      <th>3</th>\n",
              "      <td>L</td>\n",
              "      <td>298.20</td>\n",
              "      <td>308.60</td>\n",
              "      <td>1433</td>\n",
              "      <td>39.50</td>\n",
              "      <td>7</td>\n",
              "      <td>0</td>\n",
              "    </tr>\n",
              "    <tr>\n",
              "      <th>4</th>\n",
              "      <td>L</td>\n",
              "      <td>298.20</td>\n",
              "      <td>308.70</td>\n",
              "      <td>1408</td>\n",
              "      <td>40.00</td>\n",
              "      <td>9</td>\n",
              "      <td>0</td>\n",
              "    </tr>\n",
              "  </tbody>\n",
              "</table>\n",
              "</div>"
            ],
            "text/plain": [
              "  Type  Air temperature [K]  Process temperature [K]  Rotational speed [rpm]  \\\n",
              "0    M               298.10                   308.60                    1551   \n",
              "1    L               298.20                   308.70                    1408   \n",
              "2    L               298.10                   308.50                    1498   \n",
              "3    L               298.20                   308.60                    1433   \n",
              "4    L               298.20                   308.70                    1408   \n",
              "\n",
              "   Torque [Nm]  Tool wear [min]  Machine failure  \n",
              "0        42.80                0                0  \n",
              "1        46.30                3                0  \n",
              "2        49.40                5                0  \n",
              "3        39.50                7                0  \n",
              "4        40.00                9                0  "
            ]
          },
          "execution_count": 317,
          "metadata": {},
          "output_type": "execute_result"
        }
      ],
      "source": [
        "t_df.head(5)"
      ]
    },
    {
      "cell_type": "code",
      "execution_count": null,
      "id": "0869e439",
      "metadata": {
        "id": "0869e439"
      },
      "outputs": [],
      "source": [
        "# On-hot encoding the\n",
        "t_df = pd.get_dummies(t_df, columns = ['Type'], drop_first=True).copy(deep = True)"
      ]
    },
    {
      "cell_type": "code",
      "execution_count": null,
      "id": "c89f29f5",
      "metadata": {
        "id": "c89f29f5",
        "outputId": "fd4df6c5-55d1-4788-d369-5bc7bf423178"
      },
      "outputs": [
        {
          "data": {
            "text/html": [
              "<div>\n",
              "<style scoped>\n",
              "    .dataframe tbody tr th:only-of-type {\n",
              "        vertical-align: middle;\n",
              "    }\n",
              "\n",
              "    .dataframe tbody tr th {\n",
              "        vertical-align: top;\n",
              "    }\n",
              "\n",
              "    .dataframe thead th {\n",
              "        text-align: right;\n",
              "    }\n",
              "</style>\n",
              "<table border=\"1\" class=\"dataframe\">\n",
              "  <thead>\n",
              "    <tr style=\"text-align: right;\">\n",
              "      <th></th>\n",
              "      <th>Air temperature [K]</th>\n",
              "      <th>Process temperature [K]</th>\n",
              "      <th>Rotational speed [rpm]</th>\n",
              "      <th>Torque [Nm]</th>\n",
              "      <th>Tool wear [min]</th>\n",
              "      <th>Machine failure</th>\n",
              "      <th>Type_L</th>\n",
              "      <th>Type_M</th>\n",
              "    </tr>\n",
              "  </thead>\n",
              "  <tbody>\n",
              "    <tr>\n",
              "      <th>0</th>\n",
              "      <td>298.10</td>\n",
              "      <td>308.60</td>\n",
              "      <td>1551</td>\n",
              "      <td>42.80</td>\n",
              "      <td>0</td>\n",
              "      <td>0</td>\n",
              "      <td>0</td>\n",
              "      <td>1</td>\n",
              "    </tr>\n",
              "    <tr>\n",
              "      <th>1</th>\n",
              "      <td>298.20</td>\n",
              "      <td>308.70</td>\n",
              "      <td>1408</td>\n",
              "      <td>46.30</td>\n",
              "      <td>3</td>\n",
              "      <td>0</td>\n",
              "      <td>1</td>\n",
              "      <td>0</td>\n",
              "    </tr>\n",
              "    <tr>\n",
              "      <th>2</th>\n",
              "      <td>298.10</td>\n",
              "      <td>308.50</td>\n",
              "      <td>1498</td>\n",
              "      <td>49.40</td>\n",
              "      <td>5</td>\n",
              "      <td>0</td>\n",
              "      <td>1</td>\n",
              "      <td>0</td>\n",
              "    </tr>\n",
              "    <tr>\n",
              "      <th>3</th>\n",
              "      <td>298.20</td>\n",
              "      <td>308.60</td>\n",
              "      <td>1433</td>\n",
              "      <td>39.50</td>\n",
              "      <td>7</td>\n",
              "      <td>0</td>\n",
              "      <td>1</td>\n",
              "      <td>0</td>\n",
              "    </tr>\n",
              "    <tr>\n",
              "      <th>4</th>\n",
              "      <td>298.20</td>\n",
              "      <td>308.70</td>\n",
              "      <td>1408</td>\n",
              "      <td>40.00</td>\n",
              "      <td>9</td>\n",
              "      <td>0</td>\n",
              "      <td>1</td>\n",
              "      <td>0</td>\n",
              "    </tr>\n",
              "    <tr>\n",
              "      <th>...</th>\n",
              "      <td>...</td>\n",
              "      <td>...</td>\n",
              "      <td>...</td>\n",
              "      <td>...</td>\n",
              "      <td>...</td>\n",
              "      <td>...</td>\n",
              "      <td>...</td>\n",
              "      <td>...</td>\n",
              "    </tr>\n",
              "    <tr>\n",
              "      <th>9995</th>\n",
              "      <td>298.80</td>\n",
              "      <td>308.40</td>\n",
              "      <td>1604</td>\n",
              "      <td>29.50</td>\n",
              "      <td>14</td>\n",
              "      <td>0</td>\n",
              "      <td>0</td>\n",
              "      <td>1</td>\n",
              "    </tr>\n",
              "    <tr>\n",
              "      <th>9996</th>\n",
              "      <td>298.90</td>\n",
              "      <td>308.40</td>\n",
              "      <td>1632</td>\n",
              "      <td>31.80</td>\n",
              "      <td>17</td>\n",
              "      <td>0</td>\n",
              "      <td>0</td>\n",
              "      <td>0</td>\n",
              "    </tr>\n",
              "    <tr>\n",
              "      <th>9997</th>\n",
              "      <td>299.00</td>\n",
              "      <td>308.60</td>\n",
              "      <td>1645</td>\n",
              "      <td>33.40</td>\n",
              "      <td>22</td>\n",
              "      <td>0</td>\n",
              "      <td>0</td>\n",
              "      <td>1</td>\n",
              "    </tr>\n",
              "    <tr>\n",
              "      <th>9998</th>\n",
              "      <td>299.00</td>\n",
              "      <td>308.70</td>\n",
              "      <td>1408</td>\n",
              "      <td>48.50</td>\n",
              "      <td>25</td>\n",
              "      <td>0</td>\n",
              "      <td>0</td>\n",
              "      <td>0</td>\n",
              "    </tr>\n",
              "    <tr>\n",
              "      <th>9999</th>\n",
              "      <td>299.00</td>\n",
              "      <td>308.70</td>\n",
              "      <td>1500</td>\n",
              "      <td>40.20</td>\n",
              "      <td>30</td>\n",
              "      <td>0</td>\n",
              "      <td>0</td>\n",
              "      <td>1</td>\n",
              "    </tr>\n",
              "  </tbody>\n",
              "</table>\n",
              "<p>10000 rows × 8 columns</p>\n",
              "</div>"
            ],
            "text/plain": [
              "      Air temperature [K]  Process temperature [K]  Rotational speed [rpm]  \\\n",
              "0                  298.10                   308.60                    1551   \n",
              "1                  298.20                   308.70                    1408   \n",
              "2                  298.10                   308.50                    1498   \n",
              "3                  298.20                   308.60                    1433   \n",
              "4                  298.20                   308.70                    1408   \n",
              "...                   ...                      ...                     ...   \n",
              "9995               298.80                   308.40                    1604   \n",
              "9996               298.90                   308.40                    1632   \n",
              "9997               299.00                   308.60                    1645   \n",
              "9998               299.00                   308.70                    1408   \n",
              "9999               299.00                   308.70                    1500   \n",
              "\n",
              "      Torque [Nm]  Tool wear [min]  Machine failure  Type_L  Type_M  \n",
              "0           42.80                0                0       0       1  \n",
              "1           46.30                3                0       1       0  \n",
              "2           49.40                5                0       1       0  \n",
              "3           39.50                7                0       1       0  \n",
              "4           40.00                9                0       1       0  \n",
              "...           ...              ...              ...     ...     ...  \n",
              "9995        29.50               14                0       0       1  \n",
              "9996        31.80               17                0       0       0  \n",
              "9997        33.40               22                0       0       1  \n",
              "9998        48.50               25                0       0       0  \n",
              "9999        40.20               30                0       0       1  \n",
              "\n",
              "[10000 rows x 8 columns]"
            ]
          },
          "execution_count": 319,
          "metadata": {},
          "output_type": "execute_result"
        }
      ],
      "source": [
        "t_df"
      ]
    },
    {
      "cell_type": "code",
      "execution_count": null,
      "id": "ba532270",
      "metadata": {
        "id": "ba532270"
      },
      "outputs": [],
      "source": [
        "t_df.columns  = ['Air temperature','Process temperature','Rotational speed','Torque','Tool wear','Machine failure','Type_L','Type_M']"
      ]
    },
    {
      "cell_type": "code",
      "execution_count": null,
      "id": "4ee911e9",
      "metadata": {
        "id": "4ee911e9"
      },
      "outputs": [],
      "source": [
        "# Creating train and test sets for model building\n",
        "X =  t_df.loc[:,t_df.columns != 'Machine failure']\n",
        "y=  t_df['Machine failure']\n",
        "\n",
        "X_t, X_te, y_t, y_te = train_test_split(X, y,test_size=.1,random_state =123)"
      ]
    },
    {
      "cell_type": "code",
      "execution_count": null,
      "id": "0c29cf91",
      "metadata": {
        "id": "0c29cf91"
      },
      "outputs": [],
      "source": [
        "# Creating train and evalutaion set\n",
        "X_train, X_test, y_train, y_test = train_test_split(X_t, y_t,test_size=.2,random_state =123)"
      ]
    },
    {
      "cell_type": "code",
      "execution_count": null,
      "id": "3334863c",
      "metadata": {
        "id": "3334863c",
        "outputId": "0d5ebf97-fc47-49a4-976c-d78593719b7a"
      },
      "outputs": [
        {
          "name": "stdout",
          "output_type": "stream",
          "text": [
            "Accuracy: 96.95%\n"
          ]
        }
      ],
      "source": [
        "# Perform PCA\n",
        "pca = PCA(n_components=2)  # Choose the number of components to keep\n",
        "X_pca = pca.fit_transform(t_df)\n",
        "\n",
        "# Split the data into training and testing sets\n",
        "X_train, X_test, y_train, y_test = train_test_split(X_pca, y, test_size=0.2, random_state=42)\n",
        "\n",
        "# Train a logistic regression model on the PCA components\n",
        "clf = LogisticRegression()\n",
        "clf.fit(X_train, y_train)\n",
        "\n",
        "# Predict on the test set\n",
        "y_pred = clf.predict(X_test)\n",
        "\n",
        "# Calculate accuracy\n",
        "accuracy = accuracy_score(y_test, y_pred)\n",
        "print(\"Accuracy: {:.2f}%\".format(accuracy * 100))"
      ]
    },
    {
      "cell_type": "code",
      "execution_count": null,
      "id": "76f7a98a",
      "metadata": {
        "id": "76f7a98a",
        "outputId": "7bbafe1c-e690-4217-b3e9-482a99ad13f8"
      },
      "outputs": [
        {
          "data": {
            "text/plain": [
              "array([0.88755687, 0.11161912])"
            ]
          },
          "execution_count": 307,
          "metadata": {},
          "output_type": "execute_result"
        }
      ],
      "source": [
        "pca.explained_variance_ratio_"
      ]
    },
    {
      "cell_type": "code",
      "execution_count": null,
      "id": "d19292eb",
      "metadata": {
        "id": "d19292eb",
        "outputId": "33a9e50a-bb36-43b1-9967-403fea3b1ab3"
      },
      "outputs": [
        {
          "data": {
            "image/png": "[encoded data removed]",
            "text/plain": [
              "<Figure size 432x288 with 1 Axes>"
            ]
          },
          "metadata": {
            "needs_background": "light"
          },
          "output_type": "display_data"
        }
      ],
      "source": [
        "%matplotlib inline\n",
        "exp_var_pca = pca.explained_variance_ratio_\n",
        "\n",
        "# Cumulative sum of eigenvalues; This will be used to create step plot\n",
        "# for visualizing the variance explained by each principal component.\n",
        "cum_sum_eigenvalues = np.cumsum(exp_var_pca)\n",
        "\n",
        "# Create the visualization plot\n",
        "plt.bar(range(0,len(exp_var_pca)), exp_var_pca, alpha=0.5, align='center', label='Individual explained variance')\n",
        "plt.step(range(0,len(cum_sum_eigenvalues)), cum_sum_eigenvalues, where='mid',label='Cumulative explained variance')\n",
        "plt.ylabel('Explained variance ratio')\n",
        "plt.xlabel('Principal component index')\n",
        "plt.legend(loc='best')\n",
        "plt.tight_layout()\n",
        "plt.show()"
      ]
    },
    {
      "cell_type": "code",
      "execution_count": null,
      "id": "ea93d92e",
      "metadata": {
        "id": "ea93d92e",
        "outputId": "1df71ee6-ec41-413a-8f3e-5876a303982d"
      },
      "outputs": [
        {
          "name": "stdout",
          "output_type": "stream",
          "text": [
            "Accuracy: 59.45%\n",
            "Classification Report:\n",
            "              precision    recall  f1-score   support\n",
            "\n",
            "           0       0.98      0.59      0.74      1939\n",
            "           1       0.04      0.61      0.08        61\n",
            "\n",
            "    accuracy                           0.59      2000\n",
            "   macro avg       0.51      0.60      0.41      2000\n",
            "weighted avg       0.95      0.59      0.72      2000\n",
            "\n",
            "Confusion Matrix:\n",
            "[[1152  787]\n",
            " [  24   37]]\n"
          ]
        }
      ],
      "source": [
        "# Apply SMOTE to the PCA-transformed data\n",
        "smote = SMOTE(random_state=42)\n",
        "X_smote, y_smote = smote.fit_resample(X_pca, y)\n",
        "\n",
        "# Train a logistic regression model on the balanced data\n",
        "clf = LogisticRegression()\n",
        "clf.fit(X_smote, y_smote)\n",
        "\n",
        "# Predict on the test set\n",
        "y_pred = clf.predict(X_test)\n",
        "\n",
        "# Calculate accuracy\n",
        "accuracy = accuracy_score(y_test, y_pred)\n",
        "print(\"Accuracy: {:.2f}%\".format(accuracy * 100))\n",
        "\n",
        "# Print classification report and confusion matrix\n",
        "print(\"Classification Report:\")\n",
        "print(classification_report(y_test, y_pred))\n",
        "print(\"Confusion Matrix:\")\n",
        "print(confusion_matrix(y_test, y_pred))"
      ]
    },
    {
      "cell_type": "code",
      "execution_count": null,
      "id": "99187a3f",
      "metadata": {
        "id": "99187a3f",
        "outputId": "68521720-aae3-4cef-bbcb-798b420dae0c"
      },
      "outputs": [
        {
          "name": "stdout",
          "output_type": "stream",
          "text": [
            "Accuracy: 59.45%\n",
            "Classification Report:\n",
            "              precision    recall  f1-score   support\n",
            "\n",
            "           0       0.98      0.59      0.74      1939\n",
            "           1       0.05      0.62      0.09        61\n",
            "\n",
            "    accuracy                           0.59      2000\n",
            "   macro avg       0.51      0.61      0.41      2000\n",
            "weighted avg       0.95      0.59      0.72      2000\n",
            "\n",
            "Confusion Matrix:\n",
            "[[1151  788]\n",
            " [  23   38]]\n"
          ]
        }
      ],
      "source": [
        "# Apply RUS to the PCA-transformed data\n",
        "rus = RandomUnderSampler(random_state=42)\n",
        "X_rus, y_rus = rus.fit_resample(X_pca, y)\n",
        "\n",
        "# Train a logistic regression model on the balanced data\n",
        "clf = LogisticRegression()\n",
        "clf.fit(X_rus, y_rus)\n",
        "\n",
        "# Predict on the test set\n",
        "y_pred = clf.predict(X_test)\n",
        "\n",
        "# Calculate accuracy\n",
        "accuracy = accuracy_score(y_test, y_pred)\n",
        "print(\"Accuracy: {:.2f}%\".format(accuracy * 100))\n",
        "\n",
        "# Print classification report and confusion matrix\n",
        "print(\"Classification Report:\")\n",
        "print(classification_report(y_test, y_pred))\n",
        "print(\"Confusion Matrix:\")\n",
        "print(confusion_matrix(y_test, y_pred))"
      ]
    },
    {
      "cell_type": "code",
      "execution_count": null,
      "id": "52198b62",
      "metadata": {
        "id": "52198b62",
        "outputId": "1f7f7671-31a7-45b4-f0c4-ebba0262211e"
      },
      "outputs": [
        {
          "name": "stderr",
          "output_type": "stream",
          "text": [
            "100%|██████████████████████████████████████████████████████████████████████████████████| 29/29 [00:07<00:00,  3.91it/s]"
          ]
        },
        {
          "name": "stdout",
          "output_type": "stream",
          "text": [
            "                               Accuracy  Balanced Accuracy  ROC AUC  F1 Score  \\\n",
            "Model                                                                           \n",
            "LGBMClassifier                     0.98               0.84     0.84      0.98   \n",
            "BaggingClassifier                  0.98               0.83     0.83      0.98   \n",
            "DecisionTreeClassifier             0.98               0.83     0.83      0.98   \n",
            "XGBClassifier                      0.98               0.82     0.82      0.98   \n",
            "NearestCentroid                    0.73               0.78     0.78      0.81   \n",
            "RandomForestClassifier             0.98               0.76     0.76      0.98   \n",
            "AdaBoostClassifier                 0.97               0.75     0.75      0.97   \n",
            "ExtraTreeClassifier                0.96               0.70     0.70      0.96   \n",
            "LinearDiscriminantAnalysis         0.97               0.69     0.69      0.96   \n",
            "ExtraTreesClassifier               0.98               0.69     0.69      0.97   \n",
            "LabelSpreading                     0.97               0.69     0.69      0.96   \n",
            "LabelPropagation                   0.97               0.69     0.69      0.96   \n",
            "Perceptron                         0.96               0.67     0.67      0.96   \n",
            "QuadraticDiscriminantAnalysis      0.96               0.66     0.66      0.96   \n",
            "CalibratedClassifierCV             0.97               0.65     0.65      0.96   \n",
            "LogisticRegression                 0.97               0.65     0.65      0.96   \n",
            "KNeighborsClassifier               0.97               0.64     0.64      0.96   \n",
            "SGDClassifier                      0.97               0.64     0.64      0.96   \n",
            "SVC                                0.97               0.63     0.63      0.96   \n",
            "GaussianNB                         0.96               0.60     0.60      0.95   \n",
            "LinearSVC                          0.97               0.59     0.59      0.96   \n",
            "PassiveAggressiveClassifier        0.97               0.56     0.56      0.95   \n",
            "RidgeClassifierCV                  0.96               0.50     0.50      0.94   \n",
            "RidgeClassifier                    0.96               0.50     0.50      0.94   \n",
            "DummyClassifier                    0.96               0.50     0.50      0.94   \n",
            "BernoulliNB                        0.96               0.50     0.50      0.94   \n",
            "\n",
            "                               Time Taken  \n",
            "Model                                      \n",
            "LGBMClassifier                       0.10  \n",
            "BaggingClassifier                    0.18  \n",
            "DecisionTreeClassifier               0.04  \n",
            "XGBClassifier                        0.19  \n",
            "NearestCentroid                      0.01  \n",
            "RandomForestClassifier               0.66  \n",
            "AdaBoostClassifier                   0.30  \n",
            "ExtraTreeClassifier                  0.01  \n",
            "LinearDiscriminantAnalysis           0.04  \n",
            "ExtraTreesClassifier                 0.36  \n",
            "LabelSpreading                       2.48  \n",
            "LabelPropagation                     1.74  \n",
            "Perceptron                           0.01  \n",
            "QuadraticDiscriminantAnalysis        0.01  \n",
            "CalibratedClassifierCV               0.49  \n",
            "LogisticRegression                   0.03  \n",
            "KNeighborsClassifier                 0.10  \n",
            "SGDClassifier                        0.03  \n",
            "SVC                                  0.38  \n",
            "GaussianNB                           0.02  \n",
            "LinearSVC                            0.13  \n",
            "PassiveAggressiveClassifier          0.02  \n",
            "RidgeClassifierCV                    0.02  \n",
            "RidgeClassifier                      0.02  \n",
            "DummyClassifier                      0.01  \n",
            "BernoulliNB                          0.02  \n"
          ]
        },
        {
          "name": "stderr",
          "output_type": "stream",
          "text": [
            "\n"
          ]
        }
      ],
      "source": [
        "# Applying lazypredict to see the baseline estimates of model performance\n",
        "clf = LazyClassifier(verbose=0,ignore_warnings=True, custom_metric=None)\n",
        "models,predictions = clf.fit(X_train, X_test, y_train, y_test)\n",
        "\n",
        "print(models)"
      ]
    },
    {
      "cell_type": "markdown",
      "id": "3b620050",
      "metadata": {
        "id": "3b620050"
      },
      "source": [
        "# From the above results we can see XGBoost Random Forest and Decision Trees Classification algorithms are performing well"
      ]
    },
    {
      "cell_type": "markdown",
      "id": "2ee8c4b6",
      "metadata": {
        "id": "2ee8c4b6"
      },
      "source": [
        "## Going ahead with the above alogithmic experimentation"
      ]
    },
    {
      "cell_type": "code",
      "execution_count": null,
      "id": "d0a35cb6",
      "metadata": {
        "id": "d0a35cb6",
        "outputId": "eb86a499-39e0-4113-fce8-6a810fe602f4"
      },
      "outputs": [
        {
          "data": {
            "text/html": [
              "<div>\n",
              "<style scoped>\n",
              "    .dataframe tbody tr th:only-of-type {\n",
              "        vertical-align: middle;\n",
              "    }\n",
              "\n",
              "    .dataframe tbody tr th {\n",
              "        vertical-align: top;\n",
              "    }\n",
              "\n",
              "    .dataframe thead th {\n",
              "        text-align: right;\n",
              "    }\n",
              "</style>\n",
              "<table border=\"1\" class=\"dataframe\">\n",
              "  <thead>\n",
              "    <tr style=\"text-align: right;\">\n",
              "      <th></th>\n",
              "      <th>Air temperature</th>\n",
              "      <th>Process temperature</th>\n",
              "      <th>Rotational speed</th>\n",
              "      <th>Torque</th>\n",
              "      <th>Tool wear</th>\n",
              "      <th>Type_L</th>\n",
              "      <th>Type_M</th>\n",
              "    </tr>\n",
              "  </thead>\n",
              "  <tbody>\n",
              "    <tr>\n",
              "      <th>3843</th>\n",
              "      <td>0.78</td>\n",
              "      <td>0.68</td>\n",
              "      <td>0.03</td>\n",
              "      <td>0.77</td>\n",
              "      <td>0.68</td>\n",
              "      <td>1</td>\n",
              "      <td>0</td>\n",
              "    </tr>\n",
              "    <tr>\n",
              "      <th>2535</th>\n",
              "      <td>0.40</td>\n",
              "      <td>0.38</td>\n",
              "      <td>0.18</td>\n",
              "      <td>0.48</td>\n",
              "      <td>0.30</td>\n",
              "      <td>1</td>\n",
              "      <td>0</td>\n",
              "    </tr>\n",
              "    <tr>\n",
              "      <th>1609</th>\n",
              "      <td>0.26</td>\n",
              "      <td>0.25</td>\n",
              "      <td>0.23</td>\n",
              "      <td>0.43</td>\n",
              "      <td>0.13</td>\n",
              "      <td>1</td>\n",
              "      <td>0</td>\n",
              "    </tr>\n",
              "    <tr>\n",
              "      <th>4621</th>\n",
              "      <td>0.84</td>\n",
              "      <td>0.68</td>\n",
              "      <td>0.09</td>\n",
              "      <td>0.65</td>\n",
              "      <td>0.71</td>\n",
              "      <td>1</td>\n",
              "      <td>0</td>\n",
              "    </tr>\n",
              "    <tr>\n",
              "      <th>9231</th>\n",
              "      <td>0.32</td>\n",
              "      <td>0.42</td>\n",
              "      <td>0.21</td>\n",
              "      <td>0.45</td>\n",
              "      <td>0.54</td>\n",
              "      <td>1</td>\n",
              "      <td>0</td>\n",
              "    </tr>\n",
              "    <tr>\n",
              "      <th>...</th>\n",
              "      <td>...</td>\n",
              "      <td>...</td>\n",
              "      <td>...</td>\n",
              "      <td>...</td>\n",
              "      <td>...</td>\n",
              "      <td>...</td>\n",
              "      <td>...</td>\n",
              "    </tr>\n",
              "    <tr>\n",
              "      <th>5059</th>\n",
              "      <td>0.93</td>\n",
              "      <td>0.88</td>\n",
              "      <td>0.14</td>\n",
              "      <td>0.61</td>\n",
              "      <td>0.80</td>\n",
              "      <td>1</td>\n",
              "      <td>0</td>\n",
              "    </tr>\n",
              "    <tr>\n",
              "      <th>4257</th>\n",
              "      <td>0.79</td>\n",
              "      <td>0.65</td>\n",
              "      <td>0.24</td>\n",
              "      <td>0.48</td>\n",
              "      <td>0.50</td>\n",
              "      <td>0</td>\n",
              "      <td>1</td>\n",
              "    </tr>\n",
              "    <tr>\n",
              "      <th>9987</th>\n",
              "      <td>0.38</td>\n",
              "      <td>0.36</td>\n",
              "      <td>0.19</td>\n",
              "      <td>0.46</td>\n",
              "      <td>0.85</td>\n",
              "      <td>0</td>\n",
              "      <td>1</td>\n",
              "    </tr>\n",
              "    <tr>\n",
              "      <th>2100</th>\n",
              "      <td>0.43</td>\n",
              "      <td>0.44</td>\n",
              "      <td>0.17</td>\n",
              "      <td>0.58</td>\n",
              "      <td>0.17</td>\n",
              "      <td>0</td>\n",
              "      <td>1</td>\n",
              "    </tr>\n",
              "    <tr>\n",
              "      <th>3485</th>\n",
              "      <td>0.72</td>\n",
              "      <td>0.63</td>\n",
              "      <td>0.14</td>\n",
              "      <td>0.60</td>\n",
              "      <td>0.37</td>\n",
              "      <td>1</td>\n",
              "      <td>0</td>\n",
              "    </tr>\n",
              "  </tbody>\n",
              "</table>\n",
              "<p>7200 rows × 7 columns</p>\n",
              "</div>"
            ],
            "text/plain": [
              "      Air temperature  Process temperature  Rotational speed  Torque  \\\n",
              "3843             0.78                 0.68              0.03    0.77   \n",
              "2535             0.40                 0.38              0.18    0.48   \n",
              "1609             0.26                 0.25              0.23    0.43   \n",
              "4621             0.84                 0.68              0.09    0.65   \n",
              "9231             0.32                 0.42              0.21    0.45   \n",
              "...               ...                  ...               ...     ...   \n",
              "5059             0.93                 0.88              0.14    0.61   \n",
              "4257             0.79                 0.65              0.24    0.48   \n",
              "9987             0.38                 0.36              0.19    0.46   \n",
              "2100             0.43                 0.44              0.17    0.58   \n",
              "3485             0.72                 0.63              0.14    0.60   \n",
              "\n",
              "      Tool wear  Type_L  Type_M  \n",
              "3843       0.68       1       0  \n",
              "2535       0.30       1       0  \n",
              "1609       0.13       1       0  \n",
              "4621       0.71       1       0  \n",
              "9231       0.54       1       0  \n",
              "...         ...     ...     ...  \n",
              "5059       0.80       1       0  \n",
              "4257       0.50       0       1  \n",
              "9987       0.85       0       1  \n",
              "2100       0.17       0       1  \n",
              "3485       0.37       1       0  \n",
              "\n",
              "[7200 rows x 7 columns]"
            ]
          },
          "execution_count": 376,
          "metadata": {},
          "output_type": "execute_result"
        }
      ],
      "source": [
        "X_train"
      ]
    },
    {
      "cell_type": "code",
      "execution_count": null,
      "id": "4917d6b4",
      "metadata": {
        "id": "4917d6b4",
        "outputId": "3253c705-2bad-4812-8616-6095af2913fb"
      },
      "outputs": [
        {
          "data": {
            "text/plain": [
              "MinMaxScaler()"
            ]
          },
          "execution_count": 377,
          "metadata": {},
          "output_type": "execute_result"
        }
      ],
      "source": [
        "# Perfoming feature scaling using Normalization technique.\n",
        "scaler = MinMaxScaler()\n",
        "scaler.fit(X_train.loc[:, ~X_train.columns.isin(['Type_L','Type_M'])])"
      ]
    },
    {
      "cell_type": "code",
      "execution_count": null,
      "id": "0f6b6c0c",
      "metadata": {
        "id": "0f6b6c0c",
        "outputId": "f199775c-d899-40da-f2ec-f35d59f615ce"
      },
      "outputs": [
        {
          "data": {
            "text/html": [
              "<div>\n",
              "<style scoped>\n",
              "    .dataframe tbody tr th:only-of-type {\n",
              "        vertical-align: middle;\n",
              "    }\n",
              "\n",
              "    .dataframe tbody tr th {\n",
              "        vertical-align: top;\n",
              "    }\n",
              "\n",
              "    .dataframe thead th {\n",
              "        text-align: right;\n",
              "    }\n",
              "</style>\n",
              "<table border=\"1\" class=\"dataframe\">\n",
              "  <thead>\n",
              "    <tr style=\"text-align: right;\">\n",
              "      <th></th>\n",
              "      <th>Air temperature</th>\n",
              "      <th>Process temperature</th>\n",
              "      <th>Rotational speed</th>\n",
              "      <th>Torque</th>\n",
              "      <th>Tool wear</th>\n",
              "      <th>Type_L</th>\n",
              "      <th>Type_M</th>\n",
              "    </tr>\n",
              "  </thead>\n",
              "  <tbody>\n",
              "    <tr>\n",
              "      <th>3843</th>\n",
              "      <td>0.78</td>\n",
              "      <td>0.68</td>\n",
              "      <td>0.03</td>\n",
              "      <td>0.77</td>\n",
              "      <td>0.68</td>\n",
              "      <td>1</td>\n",
              "      <td>0</td>\n",
              "    </tr>\n",
              "    <tr>\n",
              "      <th>2535</th>\n",
              "      <td>0.40</td>\n",
              "      <td>0.38</td>\n",
              "      <td>0.18</td>\n",
              "      <td>0.48</td>\n",
              "      <td>0.30</td>\n",
              "      <td>1</td>\n",
              "      <td>0</td>\n",
              "    </tr>\n",
              "    <tr>\n",
              "      <th>1609</th>\n",
              "      <td>0.26</td>\n",
              "      <td>0.25</td>\n",
              "      <td>0.23</td>\n",
              "      <td>0.43</td>\n",
              "      <td>0.13</td>\n",
              "      <td>1</td>\n",
              "      <td>0</td>\n",
              "    </tr>\n",
              "    <tr>\n",
              "      <th>4621</th>\n",
              "      <td>0.84</td>\n",
              "      <td>0.68</td>\n",
              "      <td>0.09</td>\n",
              "      <td>0.65</td>\n",
              "      <td>0.71</td>\n",
              "      <td>1</td>\n",
              "      <td>0</td>\n",
              "    </tr>\n",
              "    <tr>\n",
              "      <th>9231</th>\n",
              "      <td>0.32</td>\n",
              "      <td>0.42</td>\n",
              "      <td>0.21</td>\n",
              "      <td>0.45</td>\n",
              "      <td>0.54</td>\n",
              "      <td>1</td>\n",
              "      <td>0</td>\n",
              "    </tr>\n",
              "    <tr>\n",
              "      <th>...</th>\n",
              "      <td>...</td>\n",
              "      <td>...</td>\n",
              "      <td>...</td>\n",
              "      <td>...</td>\n",
              "      <td>...</td>\n",
              "      <td>...</td>\n",
              "      <td>...</td>\n",
              "    </tr>\n",
              "    <tr>\n",
              "      <th>5059</th>\n",
              "      <td>0.93</td>\n",
              "      <td>0.88</td>\n",
              "      <td>0.14</td>\n",
              "      <td>0.61</td>\n",
              "      <td>0.80</td>\n",
              "      <td>1</td>\n",
              "      <td>0</td>\n",
              "    </tr>\n",
              "    <tr>\n",
              "      <th>4257</th>\n",
              "      <td>0.79</td>\n",
              "      <td>0.65</td>\n",
              "      <td>0.24</td>\n",
              "      <td>0.48</td>\n",
              "      <td>0.50</td>\n",
              "      <td>0</td>\n",
              "      <td>1</td>\n",
              "    </tr>\n",
              "    <tr>\n",
              "      <th>9987</th>\n",
              "      <td>0.38</td>\n",
              "      <td>0.36</td>\n",
              "      <td>0.19</td>\n",
              "      <td>0.46</td>\n",
              "      <td>0.85</td>\n",
              "      <td>0</td>\n",
              "      <td>1</td>\n",
              "    </tr>\n",
              "    <tr>\n",
              "      <th>2100</th>\n",
              "      <td>0.43</td>\n",
              "      <td>0.44</td>\n",
              "      <td>0.17</td>\n",
              "      <td>0.58</td>\n",
              "      <td>0.17</td>\n",
              "      <td>0</td>\n",
              "      <td>1</td>\n",
              "    </tr>\n",
              "    <tr>\n",
              "      <th>3485</th>\n",
              "      <td>0.72</td>\n",
              "      <td>0.63</td>\n",
              "      <td>0.14</td>\n",
              "      <td>0.60</td>\n",
              "      <td>0.37</td>\n",
              "      <td>1</td>\n",
              "      <td>0</td>\n",
              "    </tr>\n",
              "  </tbody>\n",
              "</table>\n",
              "<p>7200 rows × 7 columns</p>\n",
              "</div>"
            ],
            "text/plain": [
              "      Air temperature  Process temperature  Rotational speed  Torque  \\\n",
              "3843             0.78                 0.68              0.03    0.77   \n",
              "2535             0.40                 0.38              0.18    0.48   \n",
              "1609             0.26                 0.25              0.23    0.43   \n",
              "4621             0.84                 0.68              0.09    0.65   \n",
              "9231             0.32                 0.42              0.21    0.45   \n",
              "...               ...                  ...               ...     ...   \n",
              "5059             0.93                 0.88              0.14    0.61   \n",
              "4257             0.79                 0.65              0.24    0.48   \n",
              "9987             0.38                 0.36              0.19    0.46   \n",
              "2100             0.43                 0.44              0.17    0.58   \n",
              "3485             0.72                 0.63              0.14    0.60   \n",
              "\n",
              "      Tool wear  Type_L  Type_M  \n",
              "3843       0.68       1       0  \n",
              "2535       0.30       1       0  \n",
              "1609       0.13       1       0  \n",
              "4621       0.71       1       0  \n",
              "9231       0.54       1       0  \n",
              "...         ...     ...     ...  \n",
              "5059       0.80       1       0  \n",
              "4257       0.50       0       1  \n",
              "9987       0.85       0       1  \n",
              "2100       0.17       0       1  \n",
              "3485       0.37       1       0  \n",
              "\n",
              "[7200 rows x 7 columns]"
            ]
          },
          "execution_count": 378,
          "metadata": {},
          "output_type": "execute_result"
        }
      ],
      "source": [
        "X_train"
      ]
    },
    {
      "cell_type": "code",
      "execution_count": null,
      "id": "e92d59b5",
      "metadata": {
        "id": "e92d59b5"
      },
      "outputs": [],
      "source": [
        "# Transforming the X_train\n",
        "X_train.loc[:, ~X_train.columns.isin(['Type_L','Type_M'])] = scaler.transform(X_train.loc[:, ~X_train.columns.isin(['Type_L','Type_M'])])"
      ]
    },
    {
      "cell_type": "code",
      "execution_count": null,
      "id": "61779c7e",
      "metadata": {
        "id": "61779c7e",
        "outputId": "75a14c8b-2b7d-48d2-a5c9-e2d939d202d5"
      },
      "outputs": [
        {
          "data": {
            "text/plain": [
              "XGBClassifier(base_score=None, booster=None, callbacks=None,\n",
              "              colsample_bylevel=None, colsample_bynode=None,\n",
              "              colsample_bytree=None, early_stopping_rounds=None,\n",
              "              enable_categorical=False, eval_metric=None, feature_types=None,\n",
              "              gamma=None, gpu_id=None, grow_policy=None, importance_type=None,\n",
              "              interaction_constraints=None, learning_rate=None, max_bin=None,\n",
              "              max_cat_threshold=None, max_cat_to_onehot=None,\n",
              "              max_delta_step=None, max_depth=None, max_leaves=None,\n",
              "              min_child_weight=None, missing=nan, monotone_constraints=None,\n",
              "              n_estimators=100, n_jobs=None, num_parallel_tree=None,\n",
              "              predictor=None, random_state=None, ...)"
            ]
          },
          "execution_count": 380,
          "metadata": {},
          "output_type": "execute_result"
        }
      ],
      "source": [
        "# Apply modelling\n",
        "model = XGBClassifier()\n",
        "\n",
        "# Add silent=True to avoid printing out updates with each cycle\n",
        "model.fit(X_train, y_train, verbose=True)"
      ]
    },
    {
      "cell_type": "code",
      "execution_count": null,
      "id": "7e6c24b0",
      "metadata": {
        "id": "7e6c24b0"
      },
      "outputs": [],
      "source": [
        "# Transforming the X_test\n",
        "X_test.loc[:, ~X_test.columns.isin(['Type_L','Type_M'])] = scaler.transform(X_test.loc[:, ~X_test.columns.isin(['Type_L','Type_M'])])"
      ]
    },
    {
      "cell_type": "code",
      "execution_count": null,
      "id": "c73ff881",
      "metadata": {
        "id": "c73ff881"
      },
      "outputs": [],
      "source": [
        "predictions = model.predict(X_test)"
      ]
    },
    {
      "cell_type": "code",
      "execution_count": null,
      "id": "a98f57e5",
      "metadata": {
        "id": "a98f57e5",
        "outputId": "96af41b3-9716-444a-a0bf-f4677f5939f3"
      },
      "outputs": [
        {
          "data": {
            "text/plain": [
              "0.9822222222222222"
            ]
          },
          "execution_count": 383,
          "metadata": {},
          "output_type": "execute_result"
        }
      ],
      "source": [
        "accuracy_score(predictions,y_test)"
      ]
    },
    {
      "cell_type": "code",
      "execution_count": null,
      "id": "a3fa4dea",
      "metadata": {
        "id": "a3fa4dea",
        "outputId": "cb4739a2-0b5d-43ad-aa18-65b938834772"
      },
      "outputs": [
        {
          "name": "stdout",
          "output_type": "stream",
          "text": [
            "              precision    recall  f1-score   support\n",
            "\n",
            "           0       1.00      0.99      0.99      1748\n",
            "           1       0.65      0.85      0.73        52\n",
            "\n",
            "    accuracy                           0.98      1800\n",
            "   macro avg       0.82      0.92      0.86      1800\n",
            "weighted avg       0.99      0.98      0.98      1800\n",
            "\n"
          ]
        }
      ],
      "source": [
        "print(classification_report(predictions, y_test))"
      ]
    },
    {
      "cell_type": "code",
      "execution_count": null,
      "id": "71cf35d4",
      "metadata": {
        "id": "71cf35d4"
      },
      "outputs": [],
      "source": [
        "# Predictions on test set\n",
        "# Transforming the X_test\n",
        "X_te.loc[:, ~X_te.columns.isin(['Type_L','Type_M'])] = scaler.transform(X_te.loc[:, ~X_te.columns.isin(['Type_L','Type_M'])])"
      ]
    },
    {
      "cell_type": "code",
      "execution_count": null,
      "id": "324feb5d",
      "metadata": {
        "id": "324feb5d",
        "outputId": "4394de40-8669-4fff-cbda-afa081da6d1f"
      },
      "outputs": [
        {
          "data": {
            "text/plain": [
              "0.98"
            ]
          },
          "execution_count": 386,
          "metadata": {},
          "output_type": "execute_result"
        }
      ],
      "source": [
        "predictions = model.predict(X_te)\n",
        "accuracy_score(predictions,y_te)\n"
      ]
    },
    {
      "cell_type": "code",
      "execution_count": null,
      "id": "c205a34b",
      "metadata": {
        "id": "c205a34b",
        "outputId": "9bb7a856-9f6b-478e-95a4-d42eddc553b3"
      },
      "outputs": [
        {
          "name": "stdout",
          "output_type": "stream",
          "text": [
            "              precision    recall  f1-score   support\n",
            "\n",
            "           0       0.99      0.98      0.99       979\n",
            "           1       0.52      0.76      0.62        21\n",
            "\n",
            "    accuracy                           0.98      1000\n",
            "   macro avg       0.76      0.87      0.80      1000\n",
            "weighted avg       0.98      0.98      0.98      1000\n",
            "\n"
          ]
        }
      ],
      "source": [
        "print(classification_report(predictions, y_te))"
      ]
    },
    {
      "cell_type": "code",
      "execution_count": null,
      "id": "08d2ceed",
      "metadata": {
        "id": "08d2ceed",
        "outputId": "eeb509f1-0ee0-4e41-a43e-f26006b245f9"
      },
      "outputs": [
        {
          "name": "stdout",
          "output_type": "stream",
          "text": [
            "Accuracy score:  0.9683333333333334\n",
            "              precision    recall  f1-score   support\n",
            "\n",
            "           0       1.00      0.97      0.98      1785\n",
            "           1       0.19      0.87      0.31        15\n",
            "\n",
            "    accuracy                           0.97      1800\n",
            "   macro avg       0.60      0.92      0.65      1800\n",
            "weighted avg       0.99      0.97      0.98      1800\n",
            "\n"
          ]
        }
      ],
      "source": [
        "# Applying Random Forest Classifier\n",
        "rf = RandomForestClassifier(max_depth=3, random_state=0)\n",
        "rf.fit(X_train,y_train)\n",
        "predictions = rf.predict(X_test)\n",
        "print(\"Accuracy score: \",accuracy_score(predictions,y_test))\n",
        "print(classification_report(predictions, y_test))"
      ]
    },
    {
      "cell_type": "code",
      "execution_count": null,
      "id": "b9e64441",
      "metadata": {
        "id": "b9e64441",
        "outputId": "d5a1f2f6-6896-4f10-8d14-5225d029c84f"
      },
      "outputs": [
        {
          "name": "stdout",
          "output_type": "stream",
          "text": [
            "Accuracy 0.969\n",
            "              precision    recall  f1-score   support\n",
            "\n",
            "           0       1.00      0.97      0.98       998\n",
            "           1       0.03      0.50      0.06         2\n",
            "\n",
            "    accuracy                           0.97      1000\n",
            "   macro avg       0.52      0.73      0.52      1000\n",
            "weighted avg       1.00      0.97      0.98      1000\n",
            "\n"
          ]
        }
      ],
      "source": [
        "# Test set predictions\n",
        "predictions = rf.predict(X_te)\n",
        "print(\"Accuracy\",accuracy_score(predictions,y_te))\n",
        "print(classification_report(predictions, y_te))"
      ]
    },
    {
      "cell_type": "code",
      "execution_count": null,
      "id": "c2a57e04",
      "metadata": {
        "id": "c2a57e04",
        "outputId": "1b50ef70-85c2-451b-97b1-a9da6ec1570f"
      },
      "outputs": [
        {
          "name": "stdout",
          "output_type": "stream",
          "text": [
            "Accuracy score:  0.9711111111111111\n",
            "              precision    recall  f1-score   support\n",
            "\n",
            "           0       1.00      0.97      0.99      1780\n",
            "           1       0.26      0.90      0.41        20\n",
            "\n",
            "    accuracy                           0.97      1800\n",
            "   macro avg       0.63      0.94      0.70      1800\n",
            "weighted avg       0.99      0.97      0.98      1800\n",
            "\n"
          ]
        }
      ],
      "source": [
        "# Applying Random Forest Classifier\n",
        "rf = RandomForestClassifier(max_depth=5, random_state=0)\n",
        "rf.fit(X_train,y_train)\n",
        "predictions = rf.predict(X_test)\n",
        "print(\"Accuracy score: \",accuracy_score(predictions,y_test))\n",
        "print(classification_report(predictions, y_test))"
      ]
    },
    {
      "cell_type": "code",
      "execution_count": null,
      "id": "616d6b09",
      "metadata": {
        "id": "616d6b09",
        "outputId": "84ae2b27-0826-463b-cdc6-a25d9cd123d1"
      },
      "outputs": [
        {
          "name": "stdout",
          "output_type": "stream",
          "text": [
            "Accuracy 0.97\n",
            "              precision    recall  f1-score   support\n",
            "\n",
            "           0       1.00      0.97      0.98       997\n",
            "           1       0.06      0.67      0.12         3\n",
            "\n",
            "    accuracy                           0.97      1000\n",
            "   macro avg       0.53      0.82      0.55      1000\n",
            "weighted avg       1.00      0.97      0.98      1000\n",
            "\n"
          ]
        }
      ],
      "source": [
        "# Test set predictions\n",
        "predictions = rf.predict(X_te)\n",
        "print(\"Accuracy\",accuracy_score(predictions,y_te))\n",
        "print(classification_report(predictions, y_te))"
      ]
    },
    {
      "cell_type": "code",
      "execution_count": null,
      "id": "94081b03",
      "metadata": {
        "id": "94081b03",
        "outputId": "66960ec5-4dda-4cbb-8d89-b6a55a8d85a5"
      },
      "outputs": [
        {
          "name": "stdout",
          "output_type": "stream",
          "text": [
            "Accuracy score:  0.9733333333333334\n",
            "              precision    recall  f1-score   support\n",
            "\n",
            "           0       1.00      0.97      0.99      1776\n",
            "           1       0.32      0.92      0.48        24\n",
            "\n",
            "    accuracy                           0.97      1800\n",
            "   macro avg       0.66      0.95      0.73      1800\n",
            "weighted avg       0.99      0.97      0.98      1800\n",
            "\n"
          ]
        }
      ],
      "source": [
        "# Applying Random Forest Classifier\n",
        "rf = RandomForestClassifier(max_depth=7, random_state=0)\n",
        "rf.fit(X_train,y_train)\n",
        "predictions = rf.predict(X_test)\n",
        "print(\"Accuracy score: \",accuracy_score(predictions,y_test))\n",
        "print(classification_report(predictions, y_test))"
      ]
    },
    {
      "cell_type": "code",
      "execution_count": null,
      "id": "d3cd5166",
      "metadata": {
        "id": "d3cd5166",
        "outputId": "bcc780c4-33b2-42ce-d07a-32d9a2374b64"
      },
      "outputs": [
        {
          "name": "stdout",
          "output_type": "stream",
          "text": [
            "Accuracy 0.975\n",
            "              precision    recall  f1-score   support\n",
            "\n",
            "           0       1.00      0.98      0.99       992\n",
            "           1       0.23      0.88      0.36         8\n",
            "\n",
            "    accuracy                           0.97      1000\n",
            "   macro avg       0.61      0.93      0.67      1000\n",
            "weighted avg       0.99      0.97      0.98      1000\n",
            "\n"
          ]
        }
      ],
      "source": [
        "# Test set predictions\n",
        "predictions = rf.predict(X_te)\n",
        "print(\"Accuracy\",accuracy_score(predictions,y_te))\n",
        "print(classification_report(predictions, y_te))"
      ]
    },
    {
      "cell_type": "code",
      "execution_count": null,
      "id": "756ad1a8",
      "metadata": {
        "id": "756ad1a8",
        "outputId": "c698d787-0f5d-4871-d1d7-2b7a100413d4"
      },
      "outputs": [
        {
          "name": "stdout",
          "output_type": "stream",
          "text": [
            "Accuracy score:  0.9622222222222222\n",
            "              precision    recall  f1-score   support\n",
            "\n",
            "           0       1.00      0.96      0.98      1800\n",
            "           1       0.00      0.00      0.00         0\n",
            "\n",
            "    accuracy                           0.96      1800\n",
            "   macro avg       0.50      0.48      0.49      1800\n",
            "weighted avg       1.00      0.96      0.98      1800\n",
            "\n"
          ]
        }
      ],
      "source": [
        "# Applying Random Forest Classifier\n",
        "rf = RandomForestClassifier(max_depth=1, random_state=0)\n",
        "rf.fit(X_train,y_train)\n",
        "predictions = rf.predict(X_test)\n",
        "print(\"Accuracy score: \",accuracy_score(predictions,y_test))\n",
        "print(classification_report(predictions, y_test))"
      ]
    },
    {
      "cell_type": "code",
      "execution_count": null,
      "id": "610770f0",
      "metadata": {
        "id": "610770f0",
        "outputId": "365bab3a-85d7-4de4-91cc-412c0dee1141"
      },
      "outputs": [
        {
          "name": "stdout",
          "output_type": "stream",
          "text": [
            "Accuracy 0.969\n",
            "              precision    recall  f1-score   support\n",
            "\n",
            "           0       1.00      0.97      0.98      1000\n",
            "           1       0.00      0.00      0.00         0\n",
            "\n",
            "    accuracy                           0.97      1000\n",
            "   macro avg       0.50      0.48      0.49      1000\n",
            "weighted avg       1.00      0.97      0.98      1000\n",
            "\n"
          ]
        }
      ],
      "source": [
        "# Test set predictions\n",
        "predictions = rf.predict(X_te)\n",
        "print(\"Accuracy\",accuracy_score(predictions,y_te))\n",
        "print(classification_report(predictions, y_te))"
      ]
    },
    {
      "cell_type": "code",
      "execution_count": null,
      "id": "f395fc5f",
      "metadata": {
        "id": "f395fc5f"
      },
      "outputs": [],
      "source": [
        "# Applying decision tree classifier\n",
        "dt = DecisionTreeClassifier(random_state=0)"
      ]
    },
    {
      "cell_type": "code",
      "execution_count": null,
      "id": "856387c2",
      "metadata": {
        "id": "856387c2",
        "outputId": "0edfea32-f11e-4f24-f227-839d2ac986a3"
      },
      "outputs": [
        {
          "data": {
            "text/plain": [
              "DecisionTreeClassifier(random_state=0)"
            ]
          },
          "execution_count": 399,
          "metadata": {},
          "output_type": "execute_result"
        }
      ],
      "source": [
        "dt.fit(X_train,y_train)"
      ]
    },
    {
      "cell_type": "code",
      "execution_count": null,
      "id": "a3575f09",
      "metadata": {
        "id": "a3575f09"
      },
      "outputs": [],
      "source": [
        "predictions = dt.predict(X_test)"
      ]
    },
    {
      "cell_type": "code",
      "execution_count": null,
      "id": "bcec589b",
      "metadata": {
        "id": "bcec589b",
        "outputId": "3b302165-93f9-43e4-8140-6ca1982cb814"
      },
      "outputs": [
        {
          "data": {
            "text/plain": [
              "0.9744444444444444"
            ]
          },
          "execution_count": 401,
          "metadata": {},
          "output_type": "execute_result"
        }
      ],
      "source": [
        "accuracy_score(predictions,y_test)"
      ]
    },
    {
      "cell_type": "code",
      "execution_count": null,
      "id": "5b054e4c",
      "metadata": {
        "id": "5b054e4c",
        "outputId": "ea413670-2e37-4f17-d8d7-3caf332f10ab"
      },
      "outputs": [
        {
          "name": "stdout",
          "output_type": "stream",
          "text": [
            "              precision    recall  f1-score   support\n",
            "\n",
            "           0       0.99      0.99      0.99      1730\n",
            "           1       0.68      0.66      0.67        70\n",
            "\n",
            "    accuracy                           0.97      1800\n",
            "   macro avg       0.83      0.82      0.83      1800\n",
            "weighted avg       0.97      0.97      0.97      1800\n",
            "\n"
          ]
        }
      ],
      "source": [
        "print(classification_report(predictions, y_test))"
      ]
    },
    {
      "cell_type": "code",
      "execution_count": null,
      "id": "db3318ed",
      "metadata": {
        "id": "db3318ed",
        "outputId": "d8362eda-f9eb-45a1-e172-f0fa18d70917"
      },
      "outputs": [
        {
          "name": "stdout",
          "output_type": "stream",
          "text": [
            "Accuracy 0.978\n",
            "              precision    recall  f1-score   support\n",
            "\n",
            "           0       0.99      0.99      0.99       973\n",
            "           1       0.58      0.67      0.62        27\n",
            "\n",
            "    accuracy                           0.98      1000\n",
            "   macro avg       0.79      0.83      0.80      1000\n",
            "weighted avg       0.98      0.98      0.98      1000\n",
            "\n"
          ]
        }
      ],
      "source": [
        "# Test set predictions\n",
        "predictions = dt.predict(X_te)\n",
        "print(\"Accuracy\",accuracy_score(predictions,y_te))\n",
        "print(classification_report(predictions, y_te))"
      ]
    },
    {
      "cell_type": "code",
      "execution_count": null,
      "id": "519b2551",
      "metadata": {
        "id": "519b2551"
      },
      "outputs": [],
      "source": [
        "#  Applying AdaBoost classifier\n",
        "ada_clf = AdaBoostClassifier( random_state=42)"
      ]
    },
    {
      "cell_type": "code",
      "execution_count": null,
      "id": "fcd866e5",
      "metadata": {
        "id": "fcd866e5",
        "outputId": "06849aa1-4f86-4b21-df43-df5a38761092"
      },
      "outputs": [
        {
          "name": "stdout",
          "output_type": "stream",
          "text": [
            "Accuracy score:  0.9722222222222222\n"
          ]
        }
      ],
      "source": [
        "# Train classifier on training set\n",
        "ada_clf.fit(X_train, y_train)\n",
        "\n",
        "# Test classifier on test set\n",
        "y_pred = ada_clf.predict(X_test)\n",
        "print(\"Accuracy score: \", accuracy_score(y_test, y_pred))"
      ]
    },
    {
      "cell_type": "code",
      "execution_count": null,
      "id": "3785768d",
      "metadata": {
        "id": "3785768d",
        "outputId": "24e8490e-1e34-408c-8390-08d9db42b7f3"
      },
      "outputs": [
        {
          "name": "stdout",
          "output_type": "stream",
          "text": [
            "Classification report: \n",
            "               precision    recall  f1-score   support\n",
            "\n",
            "           0       0.98      0.99      0.99      1732\n",
            "           1       0.67      0.51      0.58        68\n",
            "\n",
            "    accuracy                           0.97      1800\n",
            "   macro avg       0.83      0.75      0.78      1800\n",
            "weighted avg       0.97      0.97      0.97      1800\n",
            "\n"
          ]
        }
      ],
      "source": [
        "print(\"Classification report: \\n\", classification_report(y_test, y_pred))"
      ]
    },
    {
      "cell_type": "code",
      "execution_count": null,
      "id": "354a0957",
      "metadata": {
        "id": "354a0957",
        "outputId": "0e3fc295-00e2-4ff0-eb42-d8a1c4a28d02"
      },
      "outputs": [
        {
          "name": "stdout",
          "output_type": "stream",
          "text": [
            "Accuracy 0.974\n",
            "              precision    recall  f1-score   support\n",
            "\n",
            "           0       0.99      0.98      0.99       981\n",
            "           1       0.39      0.63      0.48        19\n",
            "\n",
            "    accuracy                           0.97      1000\n",
            "   macro avg       0.69      0.81      0.73      1000\n",
            "weighted avg       0.98      0.97      0.98      1000\n",
            "\n"
          ]
        }
      ],
      "source": [
        "# Test set predictions\n",
        "predictions = ada_clf.predict(X_te)\n",
        "print(\"Accuracy\",accuracy_score(predictions,y_te))\n",
        "print(classification_report(predictions, y_te))"
      ]
    },
    {
      "cell_type": "code",
      "execution_count": null,
      "id": "4743e2b8",
      "metadata": {
        "id": "4743e2b8",
        "outputId": "bbde7d29-3389-4858-bb3f-9069bca1bc48"
      },
      "outputs": [
        {
          "name": "stdout",
          "output_type": "stream",
          "text": [
            "Accuracy: 0.9683333333333334\n"
          ]
        }
      ],
      "source": [
        "# Applying Kneighborsclassifier with KNN model with k=5\n",
        "knn = KNeighborsClassifier(n_neighbors=5)\n",
        "\n",
        "# Train the model using the training data\n",
        "knn.fit(X_train, y_train)\n",
        "\n",
        "# Generate predictions on the test data\n",
        "y_pred = knn.predict(X_test)\n",
        "\n",
        "# Calculate the accuracy score\n",
        "accuracy = knn.score(X_test, y_test)\n",
        "print(\"Accuracy:\", accuracy)"
      ]
    },
    {
      "cell_type": "code",
      "execution_count": null,
      "id": "297f74c0",
      "metadata": {
        "id": "297f74c0",
        "outputId": "6d9b881c-1555-45fd-bb09-9bbdaa376a9c"
      },
      "outputs": [
        {
          "name": "stdout",
          "output_type": "stream",
          "text": [
            "Classification Report:\n",
            "              precision    recall  f1-score   support\n",
            "\n",
            "           0       0.97      1.00      0.98      1732\n",
            "           1       0.72      0.26      0.39        68\n",
            "\n",
            "    accuracy                           0.97      1800\n",
            "   macro avg       0.85      0.63      0.69      1800\n",
            "weighted avg       0.96      0.97      0.96      1800\n",
            "\n"
          ]
        }
      ],
      "source": [
        "# Generate the classification report\n",
        "report = classification_report(y_test, y_pred)\n",
        "print(\"Classification Report:\")\n",
        "print(report)"
      ]
    },
    {
      "cell_type": "code",
      "execution_count": null,
      "id": "908a1134",
      "metadata": {
        "id": "908a1134",
        "outputId": "6751a2b0-f54d-4a62-9bce-c5ca20b6418b"
      },
      "outputs": [
        {
          "name": "stdout",
          "output_type": "stream",
          "text": [
            "Accuracy 0.969\n",
            "              precision    recall  f1-score   support\n",
            "\n",
            "           0       1.00      0.97      0.98       992\n",
            "           1       0.13      0.50      0.21         8\n",
            "\n",
            "    accuracy                           0.97      1000\n",
            "   macro avg       0.56      0.74      0.59      1000\n",
            "weighted avg       0.99      0.97      0.98      1000\n",
            "\n"
          ]
        }
      ],
      "source": [
        "# Test set predictions\n",
        "predictions = knn.predict(X_te)\n",
        "print(\"Accuracy\",accuracy_score(predictions,y_te))\n",
        "print(classification_report(predictions, y_te))"
      ]
    },
    {
      "cell_type": "code",
      "execution_count": null,
      "id": "7a9cc478",
      "metadata": {
        "id": "7a9cc478"
      },
      "outputs": [],
      "source": [
        "# choosing XGBoost Algorithm according to the performance"
      ]
    },
    {
      "cell_type": "code",
      "execution_count": null,
      "id": "e6e0e963",
      "metadata": {
        "id": "e6e0e963"
      },
      "outputs": [],
      "source": [
        "# predict probabilities on test set\n",
        "y_pred_prob = model.predict_proba(X_te)[:, 1]\n",
        "# calculate false positive rate, true positive rate, and AUC\n",
        "fpr, tpr, thresholds = roc_curve(y_te, y_pred_prob)\n",
        "roc_auc = auc(fpr, tpr)"
      ]
    },
    {
      "cell_type": "code",
      "execution_count": null,
      "id": "3c61e77e",
      "metadata": {
        "id": "3c61e77e",
        "outputId": "5441da28-7c52-4067-87a5-bfce881f3ea5"
      },
      "outputs": [
        {
          "data": {
            "image/png": "[encoded data removed]",
            "text/plain": [
              "<Figure size 432x288 with 1 Axes>"
            ]
          },
          "metadata": {
            "needs_background": "light"
          },
          "output_type": "display_data"
        }
      ],
      "source": [
        "# plot ROC curve\n",
        "plt.plot(fpr, tpr, color='darkorange', label='ROC curve (area = %0.2f)' % roc_auc)\n",
        "plt.plot([0, 1], [0, 1], color='navy', linestyle='--')\n",
        "plt.xlim([0.0, 1.0])\n",
        "plt.ylim([0.0, 1.05])\n",
        "plt.xlabel('False Positive Rate')\n",
        "plt.ylabel('True Positive Rate')\n",
        "plt.title('Receiver operating characteristic (ROC) curve')\n",
        "plt.legend(loc=\"lower right\")\n",
        "plt.show()"
      ]
    },
    {
      "cell_type": "code",
      "execution_count": null,
      "id": "f6f57cfe",
      "metadata": {
        "id": "f6f57cfe",
        "outputId": "ab944266-c385-4dbb-b237-1e377f90f11f"
      },
      "outputs": [
        {
          "name": "stdout",
          "output_type": "stream",
          "text": [
            "Confusion Matrix:\n",
            " [[1725    7]\n",
            " [  50   18]]\n"
          ]
        }
      ],
      "source": [
        "confusion_mat = confusion_matrix(y_test, y_pred)\n",
        "print(\"Confusion Matrix:\\n\", confusion_mat)"
      ]
    },
    {
      "cell_type": "code",
      "execution_count": null,
      "id": "49e1cf0f",
      "metadata": {
        "id": "49e1cf0f"
      },
      "outputs": [],
      "source": []
    }
  ],
  "metadata": {
    "kernelspec": {
      "display_name": "Python 3 (ipykernel)",
      "language": "python",
      "name": "python3"
    },
    "language_info": {
      "codemirror_mode": {
        "name": "ipython",
        "version": 3
      },
      "file_extension": ".py",
      "mimetype": "text/x-python",
      "name": "python",
      "nbconvert_exporter": "python",
      "pygments_lexer": "ipython3",
      "version": "3.9.12"
    },
    "colab": {
      "provenance": []
    }
  },
  "nbformat": 4,
  "nbformat_minor": 5
}